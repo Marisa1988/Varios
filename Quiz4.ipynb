{
 "cells": [
  {
   "cell_type": "code",
   "execution_count": 1,
   "id": "acf3b916-97ae-4d2c-bdf0-a5e4a2147bd1",
   "metadata": {
    "tags": []
   },
   "outputs": [
    {
     "name": "stdout",
     "output_type": "stream",
     "text": [
      "The email address cwen@iupui.edu sent 158 emails to the list.\n"
     ]
    }
   ],
   "source": [
    "# Path to the file\n",
    "file_path = '/blue/bsc4452/share/Class_Files/Py4E_files/code3/mbox.txt'\n",
    "\n",
    "# Initialize a counter for the email address\n",
    "email_count = 0\n",
    "\n",
    "# Open and read the file\n",
    "with open(file_path, 'r') as file:\n",
    "    for line in file:\n",
    "        # Check if the line starts with 'From ' and contains the email address\n",
    "        if line.startswith('From ') and 'cwen@iupui.edu' in line:\n",
    "            email_count += 1\n",
    "\n",
    "# Print the result\n",
    "print(f\"The email address cwen@iupui.edu sent {email_count} emails to the list.\")\n"
   ]
  },
  {
   "cell_type": "code",
   "execution_count": 2,
   "id": "944c147b-d39a-408e-8e1f-bcc2d2ebfffb",
   "metadata": {
    "tags": []
   },
   "outputs": [
    {
     "name": "stdout",
     "output_type": "stream",
     "text": [
      "The email address cwen@iupui.edu sent 158 emails to the list.\n"
     ]
    }
   ],
   "source": [
    "# Path to the file\n",
    "file_path = '/blue/bsc4452/Jupyter_content/data/mbox.txt'\n",
    "\n",
    "# Initialize a counter for the email address\n",
    "email_count = 0\n",
    "\n",
    "# Open and read the file\n",
    "with open(file_path, 'r') as file:\n",
    "    for line in file:\n",
    "        # Check if the line starts with 'From ' and contains the email address\n",
    "        if line.startswith('From ') and 'cwen@iupui.edu' in line:\n",
    "            email_count += 1\n",
    "\n",
    "# Print the result\n",
    "print(f\"The email address cwen@iupui.edu sent {email_count} emails to the list.\")"
   ]
  },
  {
   "cell_type": "code",
   "execution_count": 3,
   "id": "2324fd8d-03ba-4989-ab3b-89ca0aaf48bb",
   "metadata": {
    "tags": []
   },
   "outputs": [
    {
     "name": "stdout",
     "output_type": "stream",
     "text": [
      "The maximum X-DSPAM-Confidence value is 0.9965.\n"
     ]
    }
   ],
   "source": [
    "# Path to the file\n",
    "file_path = '/blue/bsc4452/Jupyter_content/data/mbox.txt'\n",
    "\n",
    "# Initialize a variable to store the maximum X-DSPAM-Confidence value\n",
    "max_confidence = 0.0\n",
    "\n",
    "# Open and read the file\n",
    "with open(file_path, 'r') as file:\n",
    "    for line in file:\n",
    "        # Check if the line contains 'X-DSPAM-Confidence:'\n",
    "        if 'X-DSPAM-Confidence:' in line:\n",
    "            # Extract the confidence value from the line\n",
    "            confidence_value = float(line.strip().split(':')[1])\n",
    "            # Update the maximum confidence value if the current one is greater\n",
    "            if confidence_value > max_confidence:\n",
    "                max_confidence = confidence_value\n",
    "\n",
    "# Print the result\n",
    "print(f\"The maximum X-DSPAM-Confidence value is {max_confidence}.\")\n"
   ]
  },
  {
   "cell_type": "code",
   "execution_count": 4,
   "id": "c9153b7d-1bfe-46a8-87f2-4432676d25df",
   "metadata": {
    "tags": []
   },
   "outputs": [
    {
     "name": "stdout",
     "output_type": "stream",
     "text": [
      "The maximum X-DSPAM-Confidence value is 0.9965.\n"
     ]
    }
   ],
   "source": [
    "# Path to the file\n",
    "file_path = '/blue/bsc4452/share/Class_Files/Py4E_files/code3/mbox.txt'\n",
    "\n",
    "# Initialize a variable to store the maximum X-DSPAM-Confidence value\n",
    "max_confidence = 0.0\n",
    "\n",
    "# Open and read the file\n",
    "with open(file_path, 'r') as file:\n",
    "    for line in file:\n",
    "        # Check if the line contains 'X-DSPAM-Confidence:'\n",
    "        if 'X-DSPAM-Confidence:' in line:\n",
    "            # Extract the confidence value from the line\n",
    "            confidence_value = float(line.strip().split(':')[1])\n",
    "            # Update the maximum confidence value if the current one is greater\n",
    "            if confidence_value > max_confidence:\n",
    "                max_confidence = confidence_value\n",
    "\n",
    "# Print the result\n",
    "print(f\"The maximum X-DSPAM-Confidence value is {max_confidence}.\")\n"
   ]
  },
  {
   "cell_type": "code",
   "execution_count": null,
   "id": "a5940bb3-3ae7-4418-8ce5-a35d4e0b62dd",
   "metadata": {},
   "outputs": [],
   "source": []
  }
 ],
 "metadata": {
  "kernelspec": {
   "display_name": "UFRC Python-3.10",
   "language": "python",
   "name": "python3-3.10-ufrc"
  },
  "language_info": {
   "codemirror_mode": {
    "name": "ipython",
    "version": 3
   },
   "file_extension": ".py",
   "mimetype": "text/x-python",
   "name": "python",
   "nbconvert_exporter": "python",
   "pygments_lexer": "ipython3",
   "version": "3.10.8"
  }
 },
 "nbformat": 4,
 "nbformat_minor": 5
}
