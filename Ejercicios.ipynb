{
 "cells": [
  {
   "cell_type": "code",
   "execution_count": 1,
   "id": "768813dc-e8de-4fc5-a7f5-aa196b69bc95",
   "metadata": {
    "tags": []
   },
   "outputs": [
    {
     "name": "stdout",
     "output_type": "stream",
     "text": [
      "6\n"
     ]
    }
   ],
   "source": [
    "x=6\n",
    "print(x)"
   ]
  },
  {
   "cell_type": "code",
   "execution_count": 2,
   "id": "e4c3f481-0762-46ba-9378-c1805607f976",
   "metadata": {
    "tags": []
   },
   "outputs": [
    {
     "name": "stdout",
     "output_type": "stream",
     "text": [
      "x\n"
     ]
    }
   ],
   "source": [
    "print('x')"
   ]
  },
  {
   "cell_type": "code",
   "execution_count": 4,
   "id": "e239a672-c2a1-4a98-8b49-4ebf8646669d",
   "metadata": {
    "tags": []
   },
   "outputs": [],
   "source": [
    "y = 7 * x"
   ]
  },
  {
   "cell_type": "code",
   "execution_count": 5,
   "id": "8ce0b633-6bb3-4a81-b79a-977f2ea277e9",
   "metadata": {
    "tags": []
   },
   "outputs": [
    {
     "name": "stdout",
     "output_type": "stream",
     "text": [
      "42\n"
     ]
    }
   ],
   "source": [
    "print(y)"
   ]
  },
  {
   "cell_type": "code",
   "execution_count": 6,
   "id": "739c36f8-44b0-422c-9619-b8e092871f96",
   "metadata": {
    "tags": []
   },
   "outputs": [
    {
     "ename": "SyntaxError",
     "evalue": "invalid syntax (3766382648.py, line 1)",
     "output_type": "error",
     "traceback": [
      "\u001b[0;36m  Cell \u001b[0;32mIn[6], line 1\u001b[0;36m\u001b[0m\n\u001b[0;31m    This is some text\u001b[0m\n\u001b[0m                 ^\u001b[0m\n\u001b[0;31mSyntaxError\u001b[0m\u001b[0;31m:\u001b[0m invalid syntax\n"
     ]
    }
   ],
   "source": [
    "This is some text\n",
    "\n",
    "# Title\n",
    "\n",
    "## Level 2"
   ]
  },
  {
   "cell_type": "code",
   "execution_count": 1,
   "id": "064fbae0-b757-4bad-8f6c-99697dab131e",
   "metadata": {},
   "outputs": [
    {
     "name": "stdin",
     "output_type": "stream",
     "text": [
      "What is your name?\n",
      " Marisa\n"
     ]
    },
    {
     "name": "stdout",
     "output_type": "stream",
     "text": [
      "Hi Marisa , nice to meet you!\n"
     ]
    }
   ],
   "source": [
    "name=input(\"What is your name?\\n\")\n",
    "print(\"Hi\", name,\", nice to meet you!\")"
   ]
  },
  {
   "cell_type": "code",
   "execution_count": null,
   "id": "696551e6-b7b4-4b86-9c97-7672981a4e74",
   "metadata": {},
   "outputs": [],
   "source": [
    "#Python pdf, page 30 30/09/2024"
   ]
  },
  {
   "cell_type": "code",
   "execution_count": 5,
   "id": "b9b64822-72e5-477d-9048-87c72f12f860",
   "metadata": {
    "tags": []
   },
   "outputs": [
    {
     "name": "stdin",
     "output_type": "stream",
     "text": [
      "Enter your name\n",
      " Marisa\n"
     ]
    },
    {
     "name": "stdout",
     "output_type": "stream",
     "text": [
      "Hello Marisa\n"
     ]
    }
   ],
   "source": [
    "#Excersise 2\n",
    "name=input(\"Enter your name\\n\")\n",
    "print(\"Hello\", name)"
   ]
  },
  {
   "cell_type": "code",
   "execution_count": 23,
   "id": "f32379f5-d269-4969-b79f-0b2949d12ee9",
   "metadata": {
    "tags": []
   },
   "outputs": [
    {
     "name": "stdin",
     "output_type": "stream",
     "text": [
      "Enter Hours\n",
      " 35\n",
      "Enter Rate\n",
      " 2.75\n"
     ]
    },
    {
     "name": "stdout",
     "output_type": "stream",
     "text": [
      "Pay: $96.250\n"
     ]
    }
   ],
   "source": [
    "#Exercise 3\n",
    "Hours=float(input(\"Enter Hours\\n\"))\n",
    "Rate=float(input(\"Enter Rate\\n\"))\n",
    "Pay = Hours * Rate\n",
    "print(f\"Pay: ${Pay:.3f}\")"
   ]
  },
  {
   "cell_type": "code",
   "execution_count": 10,
   "id": "0bb6d7b9-182a-493b-9369-becee7b73f95",
   "metadata": {
    "tags": []
   },
   "outputs": [],
   "source": [
    "#Excersice 4\n",
    "width = 17\n",
    "height = 12.0"
   ]
  },
  {
   "cell_type": "code",
   "execution_count": 11,
   "id": "466f9879-9e82-4a9b-964d-f4628bc04e7b",
   "metadata": {
    "tags": []
   },
   "outputs": [
    {
     "data": {
      "text/plain": [
       "8.5"
      ]
     },
     "execution_count": 11,
     "metadata": {},
     "output_type": "execute_result"
    }
   ],
   "source": [
    "width / 2"
   ]
  },
  {
   "cell_type": "code",
   "execution_count": 12,
   "id": "5fe708fb-e251-4158-a431-dd98f588e6ae",
   "metadata": {
    "tags": []
   },
   "outputs": [
    {
     "data": {
      "text/plain": [
       "8.5"
      ]
     },
     "execution_count": 12,
     "metadata": {},
     "output_type": "execute_result"
    }
   ],
   "source": [
    "width / 2.0"
   ]
  },
  {
   "cell_type": "code",
   "execution_count": 13,
   "id": "a7e76662-de72-41bd-92ec-5d297c7591f7",
   "metadata": {
    "tags": []
   },
   "outputs": [
    {
     "data": {
      "text/plain": [
       "4.0"
      ]
     },
     "execution_count": 13,
     "metadata": {},
     "output_type": "execute_result"
    }
   ],
   "source": [
    "height / 3"
   ]
  },
  {
   "cell_type": "code",
   "execution_count": 14,
   "id": "335ebef1-ce9f-40f7-b8f9-f03863e3a989",
   "metadata": {
    "tags": []
   },
   "outputs": [
    {
     "data": {
      "text/plain": [
       "11"
      ]
     },
     "execution_count": 14,
     "metadata": {},
     "output_type": "execute_result"
    }
   ],
   "source": [
    "1 + 2 * 5"
   ]
  },
  {
   "cell_type": "code",
   "execution_count": 24,
   "id": "da7e27f6-db09-4c40-9f53-6a319975e7e0",
   "metadata": {
    "tags": []
   },
   "outputs": [
    {
     "name": "stdin",
     "output_type": "stream",
     "text": [
      "Enter Temperature (ºC)\n",
      " 1\n"
     ]
    },
    {
     "name": "stdout",
     "output_type": "stream",
     "text": [
      "Temperature (ºF): 33.8000\n"
     ]
    }
   ],
   "source": [
    "#Excersice 5\n",
    "TempC=float(input(\"Enter Temperature (ºC)\\n\"))\n",
    "TempF=(TempC * 9/5) + 32\n",
    "print(f\"Temperature (ºF): {TempF:.4f}\")"
   ]
  },
  {
   "cell_type": "code",
   "execution_count": null,
   "id": "a695d556-69bc-4dc6-9066-5151ab9cd263",
   "metadata": {},
   "outputs": [],
   "source": []
  }
 ],
 "metadata": {
  "kernelspec": {
   "display_name": "UFRC Python-3.10",
   "language": "python",
   "name": "python3-3.10-ufrc"
  },
  "language_info": {
   "codemirror_mode": {
    "name": "ipython",
    "version": 3
   },
   "file_extension": ".py",
   "mimetype": "text/x-python",
   "name": "python",
   "nbconvert_exporter": "python",
   "pygments_lexer": "ipython3",
   "version": "3.10.8"
  }
 },
 "nbformat": 4,
 "nbformat_minor": 5
}
