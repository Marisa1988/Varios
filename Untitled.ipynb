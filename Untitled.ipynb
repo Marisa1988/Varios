{
 "cells": [
  {
   "cell_type": "code",
   "execution_count": 7,
   "id": "9448bdc6-8b55-4830-b683-9770fd91f019",
   "metadata": {
    "tags": []
   },
   "outputs": [
    {
     "name": "stdout",
     "output_type": "stream",
     "text": [
      "Sequence Handling:\n",
      "  - Bio.Seq: Work with sequences, including DNA, RNA, and protein sequences.\n",
      "  - Bio.SeqIO: Input and output of sequence file formats like FASTA, GenBank, etc.\n",
      "Alignments:\n",
      "  - Bio.AlignIO: Input and output of sequence alignments.\n",
      "  - Bio.Align: Tools for working with sequence alignments.\n",
      "Population Genetics:\n",
      "  - Bio.PopGen: Tools for population genetics analyses.\n",
      "Phylogenetics:\n",
      "  - Bio.Phylo: Tools for working with phylogenetic trees.\n",
      "Structural Bioinformatics:\n",
      "  - Bio.PDB: Tools for working with protein structures.\n",
      "Genomics:\n",
      "  - Bio.Entrez: Access to NCBI's Entrez databases.\n",
      "  - Bio.Blast: Tools for running BLAST and parsing BLAST output.\n",
      "Graphics:\n",
      "  - Bio.Graphics: Tools for creating graphical representations of biological data.\n",
      "Machine Learning:\n",
      "  - Bio.Cluster: Tools for clustering and other machine learning tasks.\n"
     ]
    }
   ],
   "source": [
    "def get_biopython_info():\n",
    "    biopython_info = {\n",
    "        \"Sequence Handling\": [\n",
    "            \"Bio.Seq: Work with sequences, including DNA, RNA, and protein sequences.\",\n",
    "            \"Bio.SeqIO: Input and output of sequence file formats like FASTA, GenBank, etc.\"\n",
    "        ],\n",
    "        \"Alignments\": [\n",
    "            \"Bio.AlignIO: Input and output of sequence alignments.\",\n",
    "            \"Bio.Align: Tools for working with sequence alignments.\"\n",
    "        ],\n",
    "        \"Population Genetics\": [\n",
    "            \"Bio.PopGen: Tools for population genetics analyses.\"\n",
    "        ],\n",
    "        \"Phylogenetics\": [\n",
    "            \"Bio.Phylo: Tools for working with phylogenetic trees.\"\n",
    "        ],\n",
    "        \"Structural Bioinformatics\": [\n",
    "            \"Bio.PDB: Tools for working with protein structures.\"\n",
    "        ],\n",
    "        \"Genomics\": [\n",
    "            \"Bio.Entrez: Access to NCBI's Entrez databases.\",\n",
    "            \"Bio.Blast: Tools for running BLAST and parsing BLAST output.\"\n",
    "        ],\n",
    "        \"Graphics\": [\n",
    "            \"Bio.Graphics: Tools for creating graphical representations of biological data.\"\n",
    "        ],\n",
    "        \"Machine Learning\": [\n",
    "            \"Bio.Cluster: Tools for clustering and other machine learning tasks.\"\n",
    "        ]\n",
    "    }\n",
    "    \n",
    "    return biopython_info\n",
    "\n",
    "# Get Biopython information\n",
    "biopython_info = get_biopython_info()\n",
    "\n",
    "# Print the information\n",
    "for category, details in biopython_info.items():\n",
    "    print(f\"{category}:\")\n",
    "    for detail in details:\n",
    "        print(f\"  - {detail}\")\n"
   ]
  },
  {
   "cell_type": "code",
   "execution_count": 12,
   "id": "b6c40be8-cb88-4e61-8141-d40b4bd8c9b2",
   "metadata": {
    "tags": []
   },
   "outputs": [
    {
     "name": "stdout",
     "output_type": "stream",
     "text": [
      "Retrieving index file. Takes about 27 MB.\n",
      "Example PDB Files:\n",
      "100D\n",
      "101D\n",
      "101M\n",
      "102D\n",
      "102L\n",
      "102M\n",
      "103D\n",
      "103L\n",
      "103M\n",
      "104D\n"
     ]
    }
   ],
   "source": [
    "from Bio.PDB import PDBList\n",
    "\n",
    "def get_example_pdb_files(num_examples=10):\n",
    "    pdbl = PDBList()\n",
    "    # Get a list of PDB IDs (this will fetch the latest PDB IDs)\n",
    "    pdb_ids = pdbl.get_all_entries()\n",
    "    \n",
    "    # Return the first 'num_examples' PDB IDs\n",
    "    return pdb_ids[:num_examples]\n",
    "\n",
    "# Example usage\n",
    "example_pdb_files = get_example_pdb_files()\n",
    "\n",
    "print(\"Example PDB Files:\")\n",
    "for pdb_id in example_pdb_files:\n",
    "    print(pdb_id)\n"
   ]
  },
  {
   "cell_type": "code",
   "execution_count": 16,
   "id": "4f72b228-bb85-4598-99ea-ebfda2decf55",
   "metadata": {
    "tags": []
   },
   "outputs": [
    {
     "name": "stdout",
     "output_type": "stream",
     "text": [
      "Retrieving index file. Takes about 27 MB.\n",
      "Example PDB Files:\n",
      "1. 100D\n",
      "2. 101D\n",
      "3. 101M\n",
      "4. 102D\n",
      "5. 102L\n",
      "6. 102M\n",
      "7. 103D\n",
      "8. 103L\n",
      "9. 103M\n",
      "10. 104D\n"
     ]
    },
    {
     "name": "stdin",
     "output_type": "stream",
     "text": [
      "Choose a PDB ID by entering the corresponding number (1-10):  1\n"
     ]
    },
    {
     "name": "stdout",
     "output_type": "stream",
     "text": [
      "Downloading PDB structure '100D'...\n",
      "\n",
      "Structure Information:\n",
      "Id: structure\n",
      "Models: 1\n",
      "Chains: 2\n",
      "Residues: 88\n",
      "Atoms: 489\n"
     ]
    },
    {
     "name": "stderr",
     "output_type": "stream",
     "text": [
      "/apps/python/3.10/lib/python3.10/site-packages/Bio/PDB/StructureBuilder.py:89: PDBConstructionWarning: WARNING: Chain A is discontinuous at line 764.\n",
      "  warnings.warn(\n",
      "/apps/python/3.10/lib/python3.10/site-packages/Bio/PDB/StructureBuilder.py:89: PDBConstructionWarning: WARNING: Chain B is discontinuous at line 816.\n",
      "  warnings.warn(\n"
     ]
    }
   ],
   "source": [
    "from Bio.PDB import PDBList, PDBParser\n",
    "\n",
    "def get_example_pdb_files(num_examples=10):\n",
    "    pdbl = PDBList()\n",
    "    pdb_ids = pdbl.get_all_entries()\n",
    "    return pdb_ids[:num_examples]\n",
    "\n",
    "def download_pdb_file(pdb_id):\n",
    "    pdbl = PDBList()\n",
    "    file_path = pdbl.retrieve_pdb_file(pdb_id, pdir='.', file_format='pdb')\n",
    "    return file_path\n",
    "\n",
    "def get_structure_info(pdb_file):\n",
    "    parser = PDBParser()\n",
    "    structure = parser.get_structure('structure', pdb_file)\n",
    "    \n",
    "    info = {\n",
    "        \"id\": structure.id,\n",
    "        \"models\": len(structure),\n",
    "        \"chains\": sum(1 for _ in structure.get_chains()),\n",
    "        \"residues\": sum(1 for _ in structure.get_residues()),\n",
    "        \"atoms\": sum(1 for _ in structure.get_atoms())\n",
    "    }\n",
    "    \n",
    "    return info\n",
    "\n",
    "# Get 10 example PDB IDs\n",
    "example_pdb_files = get_example_pdb_files()\n",
    "\n",
    "print(\"Example PDB Files:\")\n",
    "for i, pdb_id in enumerate(example_pdb_files, 1):\n",
    "    print(f\"{i}. {pdb_id}\")\n",
    "\n",
    "# Prompt user to choose a PDB ID\n",
    "choice = int(input(\"Choose a PDB ID by entering the corresponding number (1-10): \"))\n",
    "chosen_pdb_id = example_pdb_files[choice - 1]\n",
    "\n",
    "# Download and get structure information\n",
    "pdb_file = download_pdb_file(chosen_pdb_id)\n",
    "structure_info = get_structure_info(pdb_file)\n",
    "\n",
    "print(\"\\nStructure Information:\")\n",
    "for key, value in structure_info.items():\n",
    "    print(f\"{key.capitalize()}: {value}\")\n"
   ]
  },
  {
   "cell_type": "code",
   "execution_count": 17,
   "id": "b29adef5-c4bb-4689-abc2-d936c4e39e27",
   "metadata": {
    "tags": []
   },
   "outputs": [
    {
     "name": "stdout",
     "output_type": "stream",
     "text": [
      "Biopython Tools for Working with Protein Structures:\n",
      "Bio.PDB:\n",
      "  - PDBParser: Parses PDB files and produces a Structure object.\n",
      "  - MMCIFParser: Parses mmCIF files and produces a Structure object.\n",
      "  - Structure: Represents the macromolecular structure.\n",
      "  - Model: Represents a model in a structure.\n",
      "  - Chain: Represents a chain in a model.\n",
      "  - Residue: Represents a residue in a chain.\n",
      "  - Atom: Represents an atom in a residue.\n",
      "  - PDBIO: Writes a Structure object to a PDB file.\n",
      "  - Superimposer: Superimposes two structures.\n",
      "  - Polypeptide: Provides methods for handling polypeptides.\n"
     ]
    }
   ],
   "source": [
    "def get_biopython_protein_structure_tools():\n",
    "    tools = {\n",
    "        \"Bio.PDB\": [\n",
    "            \"PDBParser: Parses PDB files and produces a Structure object.\",\n",
    "            \"MMCIFParser: Parses mmCIF files and produces a Structure object.\",\n",
    "            \"Structure: Represents the macromolecular structure.\",\n",
    "            \"Model: Represents a model in a structure.\",\n",
    "            \"Chain: Represents a chain in a model.\",\n",
    "            \"Residue: Represents a residue in a chain.\",\n",
    "            \"Atom: Represents an atom in a residue.\",\n",
    "            \"PDBIO: Writes a Structure object to a PDB file.\",\n",
    "            \"Superimposer: Superimposes two structures.\",\n",
    "            \"Polypeptide: Provides methods for handling polypeptides.\"\n",
    "        ]\n",
    "    }\n",
    "    \n",
    "    return tools\n",
    "\n",
    "# Get Biopython protein structure tools\n",
    "protein_structure_tools = get_biopython_protein_structure_tools()\n",
    "\n",
    "# Print the tools\n",
    "print(\"Biopython Tools for Working with Protein Structures:\")\n",
    "for module, tools in protein_structure_tools.items():\n",
    "    print(f\"{module}:\")\n",
    "    for tool in tools:\n",
    "        print(f\"  - {tool}\")\n"
   ]
  },
  {
   "cell_type": "code",
   "execution_count": null,
   "id": "8feb4dd4-e26d-4563-a9df-be60e94fda51",
   "metadata": {},
   "outputs": [],
   "source": []
  }
 ],
 "metadata": {
  "kernelspec": {
   "display_name": "UFRC Python-3.10",
   "language": "python",
   "name": "python3-3.10-ufrc"
  },
  "language_info": {
   "codemirror_mode": {
    "name": "ipython",
    "version": 3
   },
   "file_extension": ".py",
   "mimetype": "text/x-python",
   "name": "python",
   "nbconvert_exporter": "python",
   "pygments_lexer": "ipython3",
   "version": "3.10.8"
  }
 },
 "nbformat": 4,
 "nbformat_minor": 5
}
